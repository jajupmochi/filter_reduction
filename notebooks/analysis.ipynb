{
 "cells": [
  {
   "cell_type": "code",
   "execution_count": 13,
   "metadata": {
    "tags": []
   },
   "outputs": [],
   "source": [
    "import numpy as np\n",
    "import json\n",
    "import sys\n",
    "import os\n",
    " \n",
    "sys.path.append(os.path.dirname(os.getcwd()))\n",
    "from utils import get_file_results\n",
    "from itertools import product\n",
    "import os\n",
    "import scipy.stats as stats"
   ]
  },
  {
   "cell_type": "code",
   "execution_count": 14,
   "metadata": {
    "collapsed": false,
    "jupyter": {
     "outputs_hidden": false
    }
   },
   "outputs": [],
   "source": [
    "datasets = [\n",
    "    'COLLAB', 'IMDB-BINARY', 'IMDB-MULTI', 'REDDIT-BINARY', 'REDDIT-MULTI-5K', 'REDDIT-MULTI-12K',\n",
    "    'AIDS', 'BZR', 'BZR_MD', 'COX2', 'COX2_MD', 'DHFR', 'DHFR_MD', 'ER_MD', 'MUTAG',\n",
    "    'Mutagenicity', 'NCI1', 'NCI109', 'PTC_FM', 'PTC_FR', 'PTC_MM', 'PTC_MR',\n",
    "    'DD', 'ENZYMES', 'KKI', 'OHSU', 'Peking_1', 'PROTEINS_full', 'MSRC_9', 'MSRC_21',\n",
    "    'FRANKENSTEIN', 'PROTEINS', 'COIL-DEL', 'COIL-RAG', 'Letter-high', 'Letter-low',\n",
    "    'Letter-med',\n",
    "]\n",
    "\n",
    "use_degrees = [True]  #, False]\n",
    "\n",
    "clf_methods = ['rbf', 'WL']"
   ]
  },
  {
   "cell_type": "code",
   "execution_count": 7,
   "metadata": {
    "collapsed": false,
    "jupyter": {
     "outputs_hidden": false
    }
   },
   "outputs": [
    {
     "ename": "TypeError",
     "evalue": "get_file_results() missing 1 required positional argument: 'remove_node_labels'",
     "output_type": "error",
     "traceback": [
      "\u001B[0;31m---------------------------------------------------------------------------\u001B[0m",
      "\u001B[0;31mTypeError\u001B[0m                                 Traceback (most recent call last)",
      "Cell \u001B[0;32mIn[7], line 16\u001B[0m\n\u001B[1;32m     13\u001B[0m use_degree \u001B[38;5;241m=\u001B[39m \u001B[38;5;28;01mFalse\u001B[39;00m\n\u001B[1;32m     15\u001B[0m \u001B[38;5;28;01mfor\u001B[39;00m dataset \u001B[38;5;129;01min\u001B[39;00m datasets:\n\u001B[0;32m---> 16\u001B[0m     filename \u001B[38;5;241m=\u001B[39m \u001B[43mget_file_results\u001B[49m\u001B[43m(\u001B[49m\u001B[38;5;28;43;01mNone\u001B[39;49;00m\u001B[43m,\u001B[49m\u001B[43m \u001B[49m\u001B[43mdataset\u001B[49m\u001B[43m,\u001B[49m\u001B[43m \u001B[49m\u001B[43mclassifier\u001B[49m\u001B[43m,\u001B[49m\u001B[43m \u001B[49m\u001B[43muse_degree\u001B[49m\u001B[43m)\u001B[49m\n\u001B[1;32m     17\u001B[0m     data \u001B[38;5;241m=\u001B[39m load_data(filename)\n\u001B[1;32m     19\u001B[0m     filename \u001B[38;5;241m=\u001B[39m get_file_results(\u001B[38;5;28;01mNone\u001B[39;00m, dataset, \u001B[38;5;124m'\u001B[39m\u001B[38;5;124mWL\u001B[39m\u001B[38;5;124m'\u001B[39m, \u001B[38;5;28;01mFalse\u001B[39;00m)\n",
      "\u001B[0;31mTypeError\u001B[0m: get_file_results() missing 1 required positional argument: 'remove_node_labels'"
     ]
    }
   ],
   "source": [
    "from typing import Dict\n",
    "\n",
    "\n",
    "def load_data(filename: str) -> Dict:\n",
    "    with open(os.path.join('..', filename), 'r') as file:\n",
    "        data = json.load(file)\n",
    "\n",
    "    return data\n",
    "\n",
    "\n",
    "dataset = datasets[0]\n",
    "classifier = 'rbf'\n",
    "use_degree = False\n",
    "\n",
    "for dataset in datasets:\n",
    "    filename = get_file_results(None, dataset, classifier, use_degree)\n",
    "    data = load_data(filename)\n",
    "\n",
    "    filename = get_file_results(None, dataset, 'WL', False)\n",
    "    data_to_compare = load_data(filename)\n",
    "\n",
    "    print(dataset)\n",
    "    scorings = ['test_acc', 'test_balanced_acc', 'test_f1_macro']\n",
    "\n",
    "    for scoring in scorings:\n",
    "        results_score, results_to_compare_score = [], []\n",
    "        for result, result_to_compare in zip(data, data_to_compare):\n",
    "            results_score.append(np.mean(result[scoring]))\n",
    "            results_to_compare_score.append(np.mean(result_to_compare[scoring]))\n",
    "        print(f'Metric: {scoring}')\n",
    "        print(f'Mean rbf: {np.mean(results_score):.2f} -- Mean 4-WL {np.mean(results_to_compare_score):.2f}')\n",
    "        confidence_interval_results = stats.t.interval(confidence=0.99,\n",
    "                                                       df=len(results_score) - 1,\n",
    "                                                       loc=np.mean(results_score),\n",
    "                                                       scale=stats.sem(results_score))\n",
    "        confidence_interval_results_to_compare = stats.t.interval(confidence=0.99,\n",
    "                                                       df=len(results_to_compare_score) - 1,\n",
    "                                                       loc=np.mean(results_to_compare_score),\n",
    "                                                       scale=stats.sem(results_to_compare_score))\n",
    "        print(confidence_interval_results)\n",
    "        print(confidence_interval_results_to_compare)\n",
    "        comparison_stats = stats.ttest_rel(results_score, results_to_compare_score)\n",
    "        print(comparison_stats)\n",
    "        print('HA' if comparison_stats.pvalue < 0.05 else 'H0')\n",
    "        if comparison_stats.pvalue < 0.05 and comparison_stats.statistic > 0:\n",
    "            print('RBF is better than 4-WL')\n",
    "        if confidence_interval_results[1] >= confidence_interval_results_to_compare[0]:\n",
    "            print('RBF is better reject dataset')\n",
    "        print()\n",
    "\n",
    "    print()"
   ]
  },
  {
   "cell_type": "code",
   "execution_count": null,
   "metadata": {
    "collapsed": false,
    "jupyter": {
     "outputs_hidden": false
    }
   },
   "outputs": [],
   "source": []
  }
 ],
 "metadata": {
  "kernelspec": {
   "display_name": "Python 3 (ipykernel)",
   "language": "python",
   "name": "python3"
  },
  "language_info": {
   "codemirror_mode": {
    "name": "ipython",
    "version": 3
   },
   "file_extension": ".py",
   "mimetype": "text/x-python",
   "name": "python",
   "nbconvert_exporter": "python",
   "pygments_lexer": "ipython3",
   "version": "3.10.9"
  }
 },
 "nbformat": 4,
 "nbformat_minor": 4
}
