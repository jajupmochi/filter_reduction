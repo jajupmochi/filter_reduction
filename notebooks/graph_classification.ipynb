{
 "cells": [
  {
   "cell_type": "code",
   "execution_count": 7,
   "metadata": {
    "id": "T7egdfNwEtkQ"
   },
   "outputs": [],
   "source": [
    "# imports\n",
    "import csv\n",
    "import os\n",
    "import pathlib\n",
    "from collections import namedtuple\n",
    "from time import time\n",
    "from typing import List, Tuple, Optional\n",
    "from random import randint, seed\n",
    "\n",
    "import networkx as nx\n",
    "import numpy as np\n",
    "import torch\n",
    "import torch_geometric.utils as tutils\n",
    "from torch_geometric.data import Data\n",
    "from torch_geometric.datasets import TUDataset\n",
    "from tqdm import tqdm_notebook as tqdm\n",
    "\n",
    "from sklearn.preprocessing import normalize\n",
    "from sklearn.model_selection import train_test_split\n",
    "from grakel.kernels import WeisfeilerLehman, VertexHistogram, ShortestPath\n",
    "from grakel import GraphKernel\n",
    "from sklearn.model_selection import GridSearchCV\n",
    "from sklearn.svm import SVC\n",
    "from sklearn.neighbors import KNeighborsClassifier\n",
    "from sklearn.model_selection import StratifiedShuffleSplit\n",
    "\n",
    "from utils import load_singleton_graphs_from_TUDataset\n",
    "\n",
    "import warnings\n",
    "warnings.filterwarnings('ignore')"
   ]
  },
  {
   "cell_type": "raw",
   "metadata": {},
   "source": [
    "COLLAB,IMDB-BINARY,IMDB-MULTI,REDDIT-BINARY,REDDIT-MULTI-5K, REDDIT-MULTI12K\n",
    "FRANKENSTEIN\n",
    "\n",
    "AIDS, BZR, BZR_MD, COX2, COX2_MD, DHFR, DHFR_MD, ER_MD, MUTAG, Mutagenicity, NCI1, NCI109, PTC_FM, PTC_FR, PTC_MM, PTC_MR\n",
    "\n",
    "DD, ENZYMES, PROTEINS, PROTEINS_full, KKI, OHSU, Peking_1\n",
    "\n",
    "COIL-DEL, COIL-RAG, Letter-high, Letter-low, Letter-med,MSRC_9, MSRC_21, MSRC_21C\n",
    "\n",
    "SYNTHETIC,SYNTHETICnew, Synthie"
   ]
  },
  {
   "cell_type": "code",
   "execution_count": 23,
   "metadata": {
    "id": "35UQ2YIGAvOs"
   },
   "outputs": [],
   "source": [
    "# Parameters\n",
    "datasets = ['AIDS', 'BZR', 'BZR_MD', 'COX2', 'COX2_MD', 'DHFR', 'DHFR_MD', 'ER_MD', 'MUTAG', 'Mutagenicity', 'NCI1', 'NCI109', 'PTC_FM', 'PTC_FR', 'PTC_MM', 'PTC_MR',\n",
    "            'DD', 'ENZYMES', 'KKI', 'OHSU', 'Peking_1', 'PROTEINS_full',\n",
    "            'MSRC_9', 'MSRC_21', \n",
    "            ]\n",
    "            #'COLLAB', 'REDDIT-BINARY', 'REDDIT-MULTI-5K', 'REDDIT-MULTI-12K']\n",
    "# 'NCI-H23H''AIDS', \n",
    "seed(42)\n",
    "seeds = [randint(0, 10000) for _ in range(10)]"
   ]
  },
  {
   "cell_type": "code",
   "execution_count": 24,
   "metadata": {
    "id": "VODxZcWrA8rf"
   },
   "outputs": [],
   "source": [
    "# CONSTANTS\n",
    "NODE_ATTRIBUTE = 'x'\n",
    "\n",
    "CLF_METHODS = {\n",
    "    'knn': (KNeighborsClassifier, {'kneighborsclassifier__n_neighbors': [3, 5, 7, 9, 11]}),\n",
    "    'rbf': (SVC, {#'svc__gamma': np.logspace(-6, 2, 9),\n",
    "                  'svc__C': np.logspace(-2, 2, 5)})\n",
    "}\n"
   ]
  },
  {
   "cell_type": "code",
   "execution_count": 25,
   "metadata": {
    "tags": []
   },
   "outputs": [],
   "source": [
    "from torch_geometric.utils import degree\n",
    "\n",
    "def load_special_singleton(root: str,\n",
    "                                         dataset: str,\n",
    "                                         node_attr: str = 'x') -> Tuple[List[np.ndarray], np.ndarray]:\n",
    "    \"\"\"\n",
    "    Use the Pytorch Geometric (PyG) loader to download the graph dataset from the TUDataset repo.\n",
    "    The raw graphs from PyG are saved in `root`.\n",
    "    \n",
    "    A singleton graph is created by summing all the node attributes `x` of the original graph.\n",
    "    The corresponding class of each graph is also retrieved from TUDataset dataset.\n",
    "    \n",
    "    Args:\n",
    "        root: Path where to save the raw graph dataset\n",
    "        name_dataset: Name of the graph dataset to load\n",
    "    Returns:\n",
    "        List of the loaded `np.ndarray` singleton graphs and `np.ndarray` of the corresponding class of each graph\n",
    "    \"\"\"\n",
    "    dataset = TUDataset(root=root, name=dataset)\n",
    "\n",
    "    tmp_graph = dataset[0]\n",
    "    is_graph_labelled = node_attr in tmp_graph.keys\n",
    "\n",
    "    # Convert the PyG graphs into singleton graphs\n",
    "    graphs = []\n",
    "    graph_labels = []\n",
    "    for graph in tqdm(dataset, desc='Convert graph to singleton'):\n",
    "        \n",
    "        if not is_graph_labelled:\n",
    "            # Create graph with dummy node vector\n",
    "            graph = Data(x=torch.tensor(np.ones((graph.num_nodes, 1))),\n",
    "                         y=graph.y,\n",
    "                         edge_index=graph.edge_index)\n",
    "        degrees = degree(graph.edge_index[0], graph.num_nodes)\n",
    "        node_feature = torch.mul(graph.x, degrees.view(-1, 1))\n",
    "        \n",
    "        graphs.append(np.array(node_feature.sum(axis=0)))\n",
    "        graph_labels.append(int(graph.y))\n",
    "\n",
    "    graph_cls = np.array(graph_labels)\n",
    "\n",
    "    return graphs, graph_cls"
   ]
  },
  {
   "cell_type": "code",
   "execution_count": 26,
   "metadata": {
    "tags": []
   },
   "outputs": [],
   "source": [
    "def distinct_graphs(graphs):\n",
    "    unique_graphs = []\n",
    "    for graph in graphs:\n",
    "        \n",
    "        if not any(np.array_equal(graph, g_) for g_ in unique_graphs):\n",
    "            unique_graphs.append(graph)\n",
    "            # unique_graphs.append(graph)\n",
    "        \n",
    "            \n",
    "    return unique_graphs"
   ]
  },
  {
   "cell_type": "code",
   "execution_count": 30,
   "metadata": {
    "colab": {
     "base_uri": "https://localhost:8080/"
    },
    "id": "VrjblcXhFQ_r",
    "outputId": "6e54cd3e-f524-4dbf-d07a-bb6b40868d29",
    "tags": []
   },
   "outputs": [
    {
     "name": "stdout",
     "output_type": "stream",
     "text": [
      "AIDS\n"
     ]
    },
    {
     "name": "stderr",
     "output_type": "stream",
     "text": [
      "Convert graph to singleton: 100%|██████████████████████████████████████████████████████████████████████████████████████████████████████| 2000/2000 [00:00<00:00, 6833.23it/s]\n"
     ]
    },
    {
     "name": "stdout",
     "output_type": "stream",
     "text": [
      "class proportions [0.2 0.8]\n",
      "AIDS, knn (acc): 98.15 +- 0.65\n",
      "AIDS, knn (balanced acc): 96.03 +- 1.33\n",
      "AIDS, knn (f1): 98.85 +- 0.40\n",
      "AIDS, knn (precision): 98.15 +- 0.61\n",
      "AIDS, knn (recall): 99.56 +- 0.32\n",
      "AIDS, knn (AUCROC): 96.03 +- 1.33\n",
      "**************************************************\n",
      "AIDS, rbf (acc): 99.05 +- 0.40\n",
      "AIDS, rbf (balanced acc): 97.91 +- 0.89\n",
      "AIDS, rbf (f1): 99.41 +- 0.25\n",
      "AIDS, rbf (precision): 99.01 +- 0.43\n",
      "AIDS, rbf (recall): 99.81 +- 0.21\n",
      "AIDS, rbf (AUCROC): 97.91 +- 0.89\n",
      "**************************************************\n",
      "============================================================\n",
      "BZR\n"
     ]
    },
    {
     "name": "stderr",
     "output_type": "stream",
     "text": [
      "Convert graph to singleton: 100%|███████████████████████████████████████████████████████████████████████████████████████████████████████| 405/405 [00:00<00:00, 17653.71it/s]"
     ]
    },
    {
     "name": "stdout",
     "output_type": "stream",
     "text": [
      "class proportions [0.78765432 0.21234568]\n"
     ]
    },
    {
     "name": "stderr",
     "output_type": "stream",
     "text": [
      "\n"
     ]
    },
    {
     "name": "stdout",
     "output_type": "stream",
     "text": [
      "BZR, knn (acc): 83.33 +- 2.16\n",
      "BZR, knn (balanced acc): 64.40 +- 4.98\n",
      "BZR, knn (f1): 43.54 +- 11.38\n",
      "BZR, knn (precision): 75.66 +- 11.92\n",
      "BZR, knn (recall): 31.76 +- 10.26\n",
      "BZR, knn (AUCROC): 64.40 +- 4.98\n",
      "**************************************************\n",
      "BZR, rbf (acc): 84.44 +- 2.77\n",
      "BZR, rbf (balanced acc): 67.26 +- 5.94\n",
      "BZR, rbf (f1): 49.28 +- 12.96\n",
      "BZR, rbf (precision): 78.62 +- 16.11\n",
      "BZR, rbf (recall): 37.65 +- 12.67\n",
      "BZR, rbf (AUCROC): 67.26 +- 5.94\n",
      "**************************************************\n",
      "============================================================\n",
      "BZR_MD\n"
     ]
    },
    {
     "name": "stderr",
     "output_type": "stream",
     "text": [
      "Convert graph to singleton: 100%|████████████████████████████████████████████████████████████████████████████████████████████████████████| 306/306 [00:00<00:00, 8482.47it/s]"
     ]
    },
    {
     "name": "stdout",
     "output_type": "stream",
     "text": [
      "class proportions [0.4869281 0.5130719]\n"
     ]
    },
    {
     "name": "stderr",
     "output_type": "stream",
     "text": [
      "\n"
     ]
    },
    {
     "name": "stdout",
     "output_type": "stream",
     "text": [
      "BZR_MD, knn (acc): 66.61 +- 6.04\n",
      "BZR_MD, knn (balanced acc): 66.50 +- 6.22\n",
      "BZR_MD, knn (f1): 68.46 +- 4.43\n",
      "BZR_MD, knn (precision): 67.83 +- 7.29\n",
      "BZR_MD, knn (recall): 70.00 +- 6.73\n",
      "BZR_MD, knn (AUCROC): 66.50 +- 6.22\n",
      "**************************************************\n",
      "BZR_MD, rbf (acc): 68.71 +- 3.83\n",
      "BZR_MD, rbf (balanced acc): 68.48 +- 3.97\n",
      "BZR_MD, rbf (f1): 71.35 +- 3.11\n",
      "BZR_MD, rbf (precision): 68.18 +- 5.05\n",
      "BZR_MD, rbf (recall): 75.62 +- 6.82\n",
      "BZR_MD, rbf (AUCROC): 68.48 +- 3.97\n",
      "**************************************************\n",
      "============================================================\n",
      "COX2\n"
     ]
    },
    {
     "name": "stderr",
     "output_type": "stream",
     "text": [
      "Convert graph to singleton: 100%|███████████████████████████████████████████████████████████████████████████████████████████████████████| 467/467 [00:00<00:00, 14914.19it/s]"
     ]
    },
    {
     "name": "stdout",
     "output_type": "stream",
     "text": [
      "class proportions [0.78158458 0.21841542]\n"
     ]
    },
    {
     "name": "stderr",
     "output_type": "stream",
     "text": [
      "\n"
     ]
    },
    {
     "name": "stdout",
     "output_type": "stream",
     "text": [
      "COX2, knn (acc): 78.83 +- 2.25\n",
      "COX2, knn (balanced acc): 58.89 +- 3.03\n",
      "COX2, knn (f1): 32.15 +- 7.53\n",
      "COX2, knn (precision): 58.91 +- 13.35\n",
      "COX2, knn (recall): 22.86 +- 6.67\n",
      "COX2, knn (AUCROC): 58.89 +- 3.03\n",
      "**************************************************\n",
      "COX2, rbf (acc): 77.77 +- 2.45\n",
      "COX2, rbf (balanced acc): 55.67 +- 3.58\n",
      "COX2, rbf (f1): 23.19 +- 10.39\n",
      "COX2, rbf (precision): 52.56 +- 25.79\n",
      "COX2, rbf (recall): 15.71 +- 7.98\n",
      "COX2, rbf (AUCROC): 55.67 +- 3.58\n",
      "**************************************************\n",
      "============================================================\n",
      "COX2_MD\n"
     ]
    },
    {
     "name": "stderr",
     "output_type": "stream",
     "text": [
      "Convert graph to singleton: 100%|████████████████████████████████████████████████████████████████████████████████████████████████████████| 303/303 [00:00<00:00, 7745.03it/s]"
     ]
    },
    {
     "name": "stdout",
     "output_type": "stream",
     "text": [
      "class proportions [0.51155116 0.48844884]\n"
     ]
    },
    {
     "name": "stderr",
     "output_type": "stream",
     "text": [
      "\n"
     ]
    },
    {
     "name": "stdout",
     "output_type": "stream",
     "text": [
      "COX2_MD, knn (acc): 65.90 +- 5.86\n",
      "COX2_MD, knn (balanced acc): 65.81 +- 5.88\n",
      "COX2_MD, knn (f1): 63.11 +- 7.43\n",
      "COX2_MD, knn (precision): 67.31 +- 6.94\n",
      "COX2_MD, knn (recall): 60.00 +- 9.78\n",
      "COX2_MD, knn (AUCROC): 65.81 +- 5.88\n",
      "**************************************************\n",
      "COX2_MD, rbf (acc): 66.72 +- 5.78\n",
      "COX2_MD, rbf (balanced acc): 66.62 +- 5.81\n",
      "COX2_MD, rbf (f1): 63.87 +- 7.75\n",
      "COX2_MD, rbf (precision): 68.26 +- 6.88\n",
      "COX2_MD, rbf (recall): 60.67 +- 10.31\n",
      "COX2_MD, rbf (AUCROC): 66.62 +- 5.81\n",
      "**************************************************\n",
      "============================================================\n",
      "DHFR\n"
     ]
    },
    {
     "name": "stderr",
     "output_type": "stream",
     "text": [
      "Convert graph to singleton: 100%|███████████████████████████████████████████████████████████████████████████████████████████████████████| 756/756 [00:00<00:00, 16139.99it/s]"
     ]
    },
    {
     "name": "stdout",
     "output_type": "stream",
     "text": [
      "class proportions [0.39021164 0.60978836]\n"
     ]
    },
    {
     "name": "stderr",
     "output_type": "stream",
     "text": [
      "\n"
     ]
    },
    {
     "name": "stdout",
     "output_type": "stream",
     "text": [
      "DHFR, knn (acc): 73.03 +- 2.73\n",
      "DHFR, knn (balanced acc): 71.85 +- 3.03\n",
      "DHFR, knn (f1): 77.74 +- 2.43\n",
      "DHFR, knn (precision): 78.58 +- 2.99\n",
      "DHFR, knn (recall): 77.10 +- 4.14\n",
      "DHFR, knn (AUCROC): 71.85 +- 3.03\n",
      "**************************************************\n",
      "DHFR, rbf (acc): 72.17 +- 3.48\n",
      "DHFR, rbf (balanced acc): 70.91 +- 3.95\n",
      "DHFR, rbf (f1): 77.06 +- 3.01\n",
      "DHFR, rbf (precision): 77.86 +- 3.95\n",
      "DHFR, rbf (recall): 76.56 +- 5.04\n",
      "DHFR, rbf (AUCROC): 70.91 +- 3.95\n",
      "**************************************************\n",
      "============================================================\n",
      "DHFR_MD\n"
     ]
    },
    {
     "name": "stderr",
     "output_type": "stream",
     "text": [
      "Convert graph to singleton: 100%|███████████████████████████████████████████████████████████████████████████████████████████████████████| 393/393 [00:00<00:00, 14762.20it/s]"
     ]
    },
    {
     "name": "stdout",
     "output_type": "stream",
     "text": [
      "class proportions [0.67938931 0.32061069]\n"
     ]
    },
    {
     "name": "stderr",
     "output_type": "stream",
     "text": [
      "\n"
     ]
    },
    {
     "name": "stdout",
     "output_type": "stream",
     "text": [
      "DHFR_MD, knn (acc): 67.22 +- 3.64\n",
      "DHFR_MD, knn (balanced acc): 56.69 +- 5.02\n",
      "DHFR_MD, knn (f1): 34.66 +- 9.62\n",
      "DHFR_MD, knn (precision): 46.07 +- 9.57\n",
      "DHFR_MD, knn (recall): 28.00 +- 9.12\n",
      "DHFR_MD, knn (AUCROC): 56.69 +- 5.02\n",
      "**************************************************\n",
      "DHFR_MD, rbf (acc): 67.34 +- 2.64\n",
      "DHFR_MD, rbf (balanced acc): 49.47 +- 1.30\n",
      "DHFR_MD, rbf (f1): 1.11 +- 3.33\n",
      "DHFR_MD, rbf (precision): 1.82 +- 5.45\n",
      "DHFR_MD, rbf (recall): 0.80 +- 2.40\n",
      "DHFR_MD, rbf (AUCROC): 49.47 +- 1.30\n",
      "**************************************************\n",
      "============================================================\n",
      "ER_MD\n"
     ]
    },
    {
     "name": "stderr",
     "output_type": "stream",
     "text": [
      "Convert graph to singleton: 100%|████████████████████████████████████████████████████████████████████████████████████████████████████████| 446/446 [00:00<00:00, 8581.95it/s]"
     ]
    },
    {
     "name": "stdout",
     "output_type": "stream",
     "text": [
      "class proportions [0.5941704 0.4058296]\n"
     ]
    },
    {
     "name": "stderr",
     "output_type": "stream",
     "text": [
      "\n"
     ]
    },
    {
     "name": "stdout",
     "output_type": "stream",
     "text": [
      "ER_MD, knn (acc): 71.00 +- 3.80\n",
      "ER_MD, knn (balanced acc): 70.48 +- 4.14\n",
      "ER_MD, knn (f1): 65.56 +- 5.25\n",
      "ER_MD, knn (precision): 63.99 +- 4.27\n",
      "ER_MD, knn (recall): 67.57 +- 7.74\n",
      "ER_MD, knn (AUCROC): 70.48 +- 4.14\n",
      "**************************************************\n",
      "ER_MD, rbf (acc): 72.44 +- 3.17\n",
      "ER_MD, rbf (balanced acc): 73.42 +- 3.16\n",
      "ER_MD, rbf (f1): 70.18 +- 3.41\n",
      "ER_MD, rbf (precision): 63.35 +- 3.58\n",
      "ER_MD, rbf (recall): 78.92 +- 5.38\n",
      "ER_MD, rbf (AUCROC): 73.42 +- 3.16\n",
      "**************************************************\n",
      "============================================================\n",
      "MUTAG\n"
     ]
    },
    {
     "name": "stderr",
     "output_type": "stream",
     "text": [
      "Convert graph to singleton: 100%|███████████████████████████████████████████████████████████████████████████████████████████████████████| 188/188 [00:00<00:00, 10815.25it/s]"
     ]
    },
    {
     "name": "stdout",
     "output_type": "stream",
     "text": [
      "class proportions [0.33510638 0.66489362]\n"
     ]
    },
    {
     "name": "stderr",
     "output_type": "stream",
     "text": [
      "\n"
     ]
    },
    {
     "name": "stdout",
     "output_type": "stream",
     "text": [
      "MUTAG, knn (acc): 79.74 +- 6.23\n",
      "MUTAG, knn (balanced acc): 77.77 +- 8.32\n",
      "MUTAG, knn (f1): 84.58 +- 4.51\n",
      "MUTAG, knn (precision): 85.69 +- 7.58\n",
      "MUTAG, knn (recall): 84.00 +- 5.37\n",
      "MUTAG, knn (AUCROC): 77.77 +- 8.32\n",
      "**************************************************\n",
      "MUTAG, rbf (acc): 79.21 +- 4.63\n",
      "MUTAG, rbf (balanced acc): 75.15 +- 4.44\n",
      "MUTAG, rbf (f1): 84.68 +- 3.87\n",
      "MUTAG, rbf (precision): 81.84 +- 2.82\n",
      "MUTAG, rbf (recall): 88.00 +- 6.69\n",
      "MUTAG, rbf (AUCROC): 75.15 +- 4.44\n",
      "**************************************************\n",
      "============================================================\n",
      "Mutagenicity\n"
     ]
    },
    {
     "name": "stderr",
     "output_type": "stream",
     "text": [
      "Convert graph to singleton: 100%|█████████████████████████████████████████████████████████████████████████████████████████████████████| 4337/4337 [00:00<00:00, 15885.92it/s]\n"
     ]
    },
    {
     "name": "stdout",
     "output_type": "stream",
     "text": [
      "class proportions [0.55360849 0.44639151]\n",
      "Mutagenicity, knn (acc): 71.07 +- 1.12\n",
      "Mutagenicity, knn (balanced acc): 70.46 +- 1.14\n",
      "Mutagenicity, knn (f1): 66.62 +- 1.40\n",
      "Mutagenicity, knn (precision): 68.62 +- 1.53\n",
      "Mutagenicity, knn (recall): 64.78 +- 2.15\n",
      "Mutagenicity, knn (AUCROC): 70.46 +- 1.14\n",
      "**************************************************\n",
      "Mutagenicity, rbf (acc): 72.19 +- 1.51\n",
      "Mutagenicity, rbf (balanced acc): 71.35 +- 1.48\n",
      "Mutagenicity, rbf (f1): 67.10 +- 1.68\n",
      "Mutagenicity, rbf (precision): 71.05 +- 2.27\n",
      "Mutagenicity, rbf (recall): 63.62 +- 1.97\n",
      "Mutagenicity, rbf (AUCROC): 71.35 +- 1.48\n",
      "**************************************************\n",
      "============================================================\n",
      "NCI1\n"
     ]
    },
    {
     "name": "stderr",
     "output_type": "stream",
     "text": [
      "Convert graph to singleton: 100%|█████████████████████████████████████████████████████████████████████████████████████████████████████| 4110/4110 [00:00<00:00, 10372.73it/s]\n"
     ]
    },
    {
     "name": "stdout",
     "output_type": "stream",
     "text": [
      "class proportions [0.49951338 0.50048662]\n",
      "NCI1, knn (acc): 68.44 +- 1.07\n",
      "NCI1, knn (balanced acc): 68.44 +- 1.07\n",
      "NCI1, knn (f1): 68.13 +- 1.09\n",
      "NCI1, knn (precision): 68.82 +- 1.26\n",
      "NCI1, knn (recall): 67.47 +- 1.46\n",
      "NCI1, knn (AUCROC): 68.44 +- 1.07\n",
      "**************************************************\n",
      "NCI1, rbf (acc): 68.45 +- 1.44\n",
      "NCI1, rbf (balanced acc): 68.45 +- 1.44\n",
      "NCI1, rbf (f1): 64.51 +- 1.87\n",
      "NCI1, rbf (precision): 73.71 +- 1.64\n",
      "NCI1, rbf (recall): 57.37 +- 2.20\n",
      "NCI1, rbf (AUCROC): 68.45 +- 1.44\n",
      "**************************************************\n",
      "============================================================\n",
      "NCI109\n"
     ]
    },
    {
     "name": "stderr",
     "output_type": "stream",
     "text": [
      "Convert graph to singleton: 100%|█████████████████████████████████████████████████████████████████████████████████████████████████████| 4127/4127 [00:00<00:00, 18482.63it/s]\n"
     ]
    },
    {
     "name": "stdout",
     "output_type": "stream",
     "text": [
      "class proportions [0.49624425 0.50375575]\n",
      "NCI109, knn (acc): 69.36 +- 1.17\n",
      "NCI109, knn (balanced acc): 69.36 +- 1.16\n",
      "NCI109, knn (f1): 69.35 +- 1.31\n",
      "NCI109, knn (precision): 69.88 +- 1.26\n",
      "NCI109, knn (recall): 68.87 +- 2.05\n",
      "NCI109, knn (AUCROC): 69.36 +- 1.16\n",
      "**************************************************\n",
      "NCI109, rbf (acc): 68.37 +- 1.04\n",
      "NCI109, rbf (balanced acc): 68.40 +- 1.04\n",
      "NCI109, rbf (f1): 67.11 +- 1.64\n",
      "NCI109, rbf (precision): 70.45 +- 1.54\n",
      "NCI109, rbf (recall): 64.21 +- 3.36\n",
      "NCI109, rbf (AUCROC): 68.40 +- 1.04\n",
      "**************************************************\n",
      "============================================================\n",
      "PTC_FM\n"
     ]
    },
    {
     "name": "stderr",
     "output_type": "stream",
     "text": [
      "Convert graph to singleton: 100%|███████████████████████████████████████████████████████████████████████████████████████████████████████| 349/349 [00:00<00:00, 16027.55it/s]"
     ]
    },
    {
     "name": "stdout",
     "output_type": "stream",
     "text": [
      "class proportions [0.59025788 0.40974212]\n"
     ]
    },
    {
     "name": "stderr",
     "output_type": "stream",
     "text": [
      "\n"
     ]
    },
    {
     "name": "stdout",
     "output_type": "stream",
     "text": [
      "PTC_FM, knn (acc): 56.86 +- 3.77\n",
      "PTC_FM, knn (balanced acc): 54.14 +- 3.71\n",
      "PTC_FM, knn (f1): 42.12 +- 5.62\n",
      "PTC_FM, knn (precision): 47.63 +- 5.32\n",
      "PTC_FM, knn (recall): 38.28 +- 7.31\n",
      "PTC_FM, knn (AUCROC): 54.14 +- 3.71\n",
      "**************************************************\n",
      "PTC_FM, rbf (acc): 62.57 +- 3.71\n",
      "PTC_FM, rbf (balanced acc): 56.19 +- 3.86\n",
      "PTC_FM, rbf (f1): 28.58 +- 11.60\n",
      "PTC_FM, rbf (precision): 65.43 +- 29.53\n",
      "PTC_FM, rbf (recall): 18.97 +- 8.34\n",
      "PTC_FM, rbf (AUCROC): 56.19 +- 3.86\n",
      "**************************************************\n",
      "============================================================\n",
      "PTC_FR\n"
     ]
    },
    {
     "name": "stderr",
     "output_type": "stream",
     "text": [
      "Convert graph to singleton: 100%|███████████████████████████████████████████████████████████████████████████████████████████████████████| 351/351 [00:00<00:00, 14238.74it/s]"
     ]
    },
    {
     "name": "stdout",
     "output_type": "stream",
     "text": [
      "class proportions [0.65527066 0.34472934]\n"
     ]
    },
    {
     "name": "stderr",
     "output_type": "stream",
     "text": [
      "\n"
     ]
    },
    {
     "name": "stdout",
     "output_type": "stream",
     "text": [
      "PTC_FR, knn (acc): 65.63 +- 5.16\n",
      "PTC_FR, knn (balanced acc): 56.10 +- 4.89\n",
      "PTC_FR, knn (f1): 34.27 +- 8.41\n",
      "PTC_FR, knn (precision): 50.10 +- 13.54\n",
      "PTC_FR, knn (recall): 26.67 +- 7.26\n",
      "PTC_FR, knn (AUCROC): 56.10 +- 4.89\n",
      "**************************************************\n",
      "PTC_FR, rbf (acc): 68.59 +- 2.19\n",
      "PTC_FR, rbf (balanced acc): 54.15 +- 3.19\n",
      "PTC_FR, rbf (f1): 16.37 +- 10.83\n",
      "PTC_FR, rbf (precision): 70.14 +- 38.47\n",
      "PTC_FR, rbf (recall): 9.58 +- 6.73\n",
      "PTC_FR, rbf (AUCROC): 54.15 +- 3.19\n",
      "**************************************************\n",
      "============================================================\n",
      "PTC_MM\n"
     ]
    },
    {
     "name": "stderr",
     "output_type": "stream",
     "text": [
      "Convert graph to singleton: 100%|████████████████████████████████████████████████████████████████████████████████████████████████████████| 336/336 [00:00<00:00, 7306.16it/s]"
     ]
    },
    {
     "name": "stdout",
     "output_type": "stream",
     "text": [
      "class proportions [0.61607143 0.38392857]\n"
     ]
    },
    {
     "name": "stderr",
     "output_type": "stream",
     "text": [
      "\n"
     ]
    },
    {
     "name": "stdout",
     "output_type": "stream",
     "text": [
      "PTC_MM, knn (acc): 61.47 +- 5.42\n",
      "PTC_MM, knn (balanced acc): 57.01 +- 5.72\n",
      "PTC_MM, knn (f1): 42.66 +- 8.90\n",
      "PTC_MM, knn (precision): 49.87 +- 9.51\n",
      "PTC_MM, knn (recall): 38.08 +- 9.95\n",
      "PTC_MM, knn (AUCROC): 57.01 +- 5.72\n",
      "**************************************************\n",
      "PTC_MM, rbf (acc): 65.15 +- 3.66\n",
      "PTC_MM, rbf (balanced acc): 57.87 +- 4.40\n",
      "PTC_MM, rbf (f1): 36.55 +- 9.94\n",
      "PTC_MM, rbf (precision): 59.18 +- 11.43\n",
      "PTC_MM, rbf (recall): 26.92 +- 8.60\n",
      "PTC_MM, rbf (AUCROC): 57.87 +- 4.40\n",
      "**************************************************\n",
      "============================================================\n",
      "PTC_MR\n"
     ]
    },
    {
     "name": "stderr",
     "output_type": "stream",
     "text": [
      "Convert graph to singleton: 100%|███████████████████████████████████████████████████████████████████████████████████████████████████████| 344/344 [00:00<00:00, 14291.49it/s]"
     ]
    },
    {
     "name": "stdout",
     "output_type": "stream",
     "text": [
      "class proportions [0.55813953 0.44186047]\n"
     ]
    },
    {
     "name": "stderr",
     "output_type": "stream",
     "text": [
      "\n"
     ]
    },
    {
     "name": "stdout",
     "output_type": "stream",
     "text": [
      "PTC_MR, knn (acc): 58.12 +- 5.16\n",
      "PTC_MR, knn (balanced acc): 56.68 +- 5.13\n",
      "PTC_MR, knn (f1): 48.49 +- 6.72\n",
      "PTC_MR, knn (precision): 52.45 +- 7.67\n",
      "PTC_MR, knn (recall): 45.67 +- 8.31\n",
      "PTC_MR, knn (AUCROC): 56.68 +- 5.13\n",
      "**************************************************\n",
      "PTC_MR, rbf (acc): 58.99 +- 5.46\n",
      "PTC_MR, rbf (balanced acc): 55.79 +- 5.14\n",
      "PTC_MR, rbf (f1): 37.85 +- 13.19\n",
      "PTC_MR, rbf (precision): 61.42 +- 17.97\n",
      "PTC_MR, rbf (recall): 31.33 +- 14.77\n",
      "PTC_MR, rbf (AUCROC): 55.79 +- 5.14\n",
      "**************************************************\n",
      "============================================================\n",
      "DD\n"
     ]
    },
    {
     "name": "stderr",
     "output_type": "stream",
     "text": [
      "Convert graph to singleton: 100%|█████████████████████████████████████████████████████████████████████████████████████████████████████| 1178/1178 [00:00<00:00, 13729.16it/s]"
     ]
    },
    {
     "name": "stdout",
     "output_type": "stream",
     "text": [
      "class proportions [0.58658744 0.41341256]\n"
     ]
    },
    {
     "name": "stderr",
     "output_type": "stream",
     "text": [
      "\n"
     ]
    },
    {
     "name": "stdout",
     "output_type": "stream",
     "text": [
      "DD, knn (acc): 77.63 +- 2.34\n",
      "DD, knn (balanced acc): 76.42 +- 2.36\n",
      "DD, knn (f1): 71.99 +- 2.86\n",
      "DD, knn (precision): 75.11 +- 3.75\n",
      "DD, knn (recall): 69.29 +- 3.80\n",
      "DD, knn (AUCROC): 76.42 +- 2.36\n",
      "**************************************************\n",
      "DD, rbf (acc): 78.18 +- 1.94\n",
      "DD, rbf (balanced acc): 77.36 +- 2.05\n",
      "DD, rbf (f1): 73.38 +- 2.52\n",
      "DD, rbf (precision): 74.46 +- 3.22\n",
      "DD, rbf (recall): 72.55 +- 4.41\n",
      "DD, rbf (AUCROC): 77.36 +- 2.05\n",
      "**************************************************\n",
      "============================================================\n",
      "ENZYMES\n"
     ]
    },
    {
     "name": "stderr",
     "output_type": "stream",
     "text": [
      "Convert graph to singleton: 100%|███████████████████████████████████████████████████████████████████████████████████████████████████████| 600/600 [00:00<00:00, 18112.47it/s]"
     ]
    },
    {
     "name": "stdout",
     "output_type": "stream",
     "text": [
      "class proportions [0.16666667 0.16666667 0.16666667 0.16666667 0.16666667 0.16666667]\n"
     ]
    },
    {
     "name": "stderr",
     "output_type": "stream",
     "text": [
      "\n"
     ]
    },
    {
     "ename": "ValueError",
     "evalue": "Target is multiclass but average='binary'. Please choose another average setting, one of [None, 'micro', 'macro', 'weighted'].",
     "output_type": "error",
     "traceback": [
      "\u001b[0;31m---------------------------------------------------------------------------\u001b[0m",
      "\u001b[0;31mValueError\u001b[0m                                Traceback (most recent call last)",
      "Cell \u001b[0;32mIn [30], line 65\u001b[0m\n\u001b[1;32m     63\u001b[0m average \u001b[38;5;241m=\u001b[39m \u001b[38;5;124m'\u001b[39m\u001b[38;5;124mbinary\u001b[39m\u001b[38;5;124m'\u001b[39m \u001b[38;5;28;01mif\u001b[39;00m \u001b[38;5;28mlen\u001b[39m(\u001b[38;5;28mset\u001b[39m(labels)) \u001b[38;5;241m<\u001b[39m\u001b[38;5;241m=\u001b[39m \u001b[38;5;241m2\u001b[39m \u001b[38;5;28;01melse\u001b[39;00m \u001b[38;5;124m'\u001b[39m\u001b[38;5;124mmacro\u001b[39m\u001b[38;5;124m'\u001b[39m\n\u001b[1;32m     64\u001b[0m f1_scores\u001b[38;5;241m.\u001b[39mappend(f1_score(y_test, y_predictions, average\u001b[38;5;241m=\u001b[39maverage))\n\u001b[0;32m---> 65\u001b[0m precisions\u001b[38;5;241m.\u001b[39mappend(\u001b[43mprecision_score\u001b[49m\u001b[43m(\u001b[49m\u001b[43my_test\u001b[49m\u001b[43m,\u001b[49m\u001b[43m \u001b[49m\u001b[43my_predictions\u001b[49m\u001b[43m)\u001b[49m)\n\u001b[1;32m     66\u001b[0m recalls\u001b[38;5;241m.\u001b[39mappend(recall_score(y_test, y_predictions))\n\u001b[1;32m     67\u001b[0m aucrocs\u001b[38;5;241m.\u001b[39mappend(roc_auc_score(y_test, y_predictions, multi_class\u001b[38;5;241m=\u001b[39m\u001b[38;5;124m'\u001b[39m\u001b[38;5;124movr\u001b[39m\u001b[38;5;124m'\u001b[39m))\n",
      "File \u001b[0;32m~/Documents/graph_library/graph_reduction/reduction_to_one/venv/lib64/python3.9/site-packages/sklearn/metrics/_classification.py:1776\u001b[0m, in \u001b[0;36mprecision_score\u001b[0;34m(y_true, y_pred, labels, pos_label, average, sample_weight, zero_division)\u001b[0m\n\u001b[1;32m   1647\u001b[0m \u001b[38;5;28;01mdef\u001b[39;00m \u001b[38;5;21mprecision_score\u001b[39m(\n\u001b[1;32m   1648\u001b[0m     y_true,\n\u001b[1;32m   1649\u001b[0m     y_pred,\n\u001b[0;32m   (...)\u001b[0m\n\u001b[1;32m   1655\u001b[0m     zero_division\u001b[38;5;241m=\u001b[39m\u001b[38;5;124m\"\u001b[39m\u001b[38;5;124mwarn\u001b[39m\u001b[38;5;124m\"\u001b[39m,\n\u001b[1;32m   1656\u001b[0m ):\n\u001b[1;32m   1657\u001b[0m     \u001b[38;5;124;03m\"\"\"Compute the precision.\u001b[39;00m\n\u001b[1;32m   1658\u001b[0m \n\u001b[1;32m   1659\u001b[0m \u001b[38;5;124;03m    The precision is the ratio ``tp / (tp + fp)`` where ``tp`` is the number of\u001b[39;00m\n\u001b[0;32m   (...)\u001b[0m\n\u001b[1;32m   1774\u001b[0m \u001b[38;5;124;03m    array([0.5, 1. , 1. ])\u001b[39;00m\n\u001b[1;32m   1775\u001b[0m \u001b[38;5;124;03m    \"\"\"\u001b[39;00m\n\u001b[0;32m-> 1776\u001b[0m     p, _, _, _ \u001b[38;5;241m=\u001b[39m \u001b[43mprecision_recall_fscore_support\u001b[49m\u001b[43m(\u001b[49m\n\u001b[1;32m   1777\u001b[0m \u001b[43m        \u001b[49m\u001b[43my_true\u001b[49m\u001b[43m,\u001b[49m\n\u001b[1;32m   1778\u001b[0m \u001b[43m        \u001b[49m\u001b[43my_pred\u001b[49m\u001b[43m,\u001b[49m\n\u001b[1;32m   1779\u001b[0m \u001b[43m        \u001b[49m\u001b[43mlabels\u001b[49m\u001b[38;5;241;43m=\u001b[39;49m\u001b[43mlabels\u001b[49m\u001b[43m,\u001b[49m\n\u001b[1;32m   1780\u001b[0m \u001b[43m        \u001b[49m\u001b[43mpos_label\u001b[49m\u001b[38;5;241;43m=\u001b[39;49m\u001b[43mpos_label\u001b[49m\u001b[43m,\u001b[49m\n\u001b[1;32m   1781\u001b[0m \u001b[43m        \u001b[49m\u001b[43maverage\u001b[49m\u001b[38;5;241;43m=\u001b[39;49m\u001b[43maverage\u001b[49m\u001b[43m,\u001b[49m\n\u001b[1;32m   1782\u001b[0m \u001b[43m        \u001b[49m\u001b[43mwarn_for\u001b[49m\u001b[38;5;241;43m=\u001b[39;49m\u001b[43m(\u001b[49m\u001b[38;5;124;43m\"\u001b[39;49m\u001b[38;5;124;43mprecision\u001b[39;49m\u001b[38;5;124;43m\"\u001b[39;49m\u001b[43m,\u001b[49m\u001b[43m)\u001b[49m\u001b[43m,\u001b[49m\n\u001b[1;32m   1783\u001b[0m \u001b[43m        \u001b[49m\u001b[43msample_weight\u001b[49m\u001b[38;5;241;43m=\u001b[39;49m\u001b[43msample_weight\u001b[49m\u001b[43m,\u001b[49m\n\u001b[1;32m   1784\u001b[0m \u001b[43m        \u001b[49m\u001b[43mzero_division\u001b[49m\u001b[38;5;241;43m=\u001b[39;49m\u001b[43mzero_division\u001b[49m\u001b[43m,\u001b[49m\n\u001b[1;32m   1785\u001b[0m \u001b[43m    \u001b[49m\u001b[43m)\u001b[49m\n\u001b[1;32m   1786\u001b[0m     \u001b[38;5;28;01mreturn\u001b[39;00m p\n",
      "File \u001b[0;32m~/Documents/graph_library/graph_reduction/reduction_to_one/venv/lib64/python3.9/site-packages/sklearn/metrics/_classification.py:1563\u001b[0m, in \u001b[0;36mprecision_recall_fscore_support\u001b[0;34m(y_true, y_pred, beta, labels, pos_label, average, warn_for, sample_weight, zero_division)\u001b[0m\n\u001b[1;32m   1561\u001b[0m \u001b[38;5;28;01mif\u001b[39;00m beta \u001b[38;5;241m<\u001b[39m \u001b[38;5;241m0\u001b[39m:\n\u001b[1;32m   1562\u001b[0m     \u001b[38;5;28;01mraise\u001b[39;00m \u001b[38;5;167;01mValueError\u001b[39;00m(\u001b[38;5;124m\"\u001b[39m\u001b[38;5;124mbeta should be >=0 in the F-beta score\u001b[39m\u001b[38;5;124m\"\u001b[39m)\n\u001b[0;32m-> 1563\u001b[0m labels \u001b[38;5;241m=\u001b[39m \u001b[43m_check_set_wise_labels\u001b[49m\u001b[43m(\u001b[49m\u001b[43my_true\u001b[49m\u001b[43m,\u001b[49m\u001b[43m \u001b[49m\u001b[43my_pred\u001b[49m\u001b[43m,\u001b[49m\u001b[43m \u001b[49m\u001b[43maverage\u001b[49m\u001b[43m,\u001b[49m\u001b[43m \u001b[49m\u001b[43mlabels\u001b[49m\u001b[43m,\u001b[49m\u001b[43m \u001b[49m\u001b[43mpos_label\u001b[49m\u001b[43m)\u001b[49m\n\u001b[1;32m   1565\u001b[0m \u001b[38;5;66;03m# Calculate tp_sum, pred_sum, true_sum ###\u001b[39;00m\n\u001b[1;32m   1566\u001b[0m samplewise \u001b[38;5;241m=\u001b[39m average \u001b[38;5;241m==\u001b[39m \u001b[38;5;124m\"\u001b[39m\u001b[38;5;124msamples\u001b[39m\u001b[38;5;124m\"\u001b[39m\n",
      "File \u001b[0;32m~/Documents/graph_library/graph_reduction/reduction_to_one/venv/lib64/python3.9/site-packages/sklearn/metrics/_classification.py:1381\u001b[0m, in \u001b[0;36m_check_set_wise_labels\u001b[0;34m(y_true, y_pred, average, labels, pos_label)\u001b[0m\n\u001b[1;32m   1379\u001b[0m         \u001b[38;5;28;01mif\u001b[39;00m y_type \u001b[38;5;241m==\u001b[39m \u001b[38;5;124m\"\u001b[39m\u001b[38;5;124mmulticlass\u001b[39m\u001b[38;5;124m\"\u001b[39m:\n\u001b[1;32m   1380\u001b[0m             average_options\u001b[38;5;241m.\u001b[39mremove(\u001b[38;5;124m\"\u001b[39m\u001b[38;5;124msamples\u001b[39m\u001b[38;5;124m\"\u001b[39m)\n\u001b[0;32m-> 1381\u001b[0m         \u001b[38;5;28;01mraise\u001b[39;00m \u001b[38;5;167;01mValueError\u001b[39;00m(\n\u001b[1;32m   1382\u001b[0m             \u001b[38;5;124m\"\u001b[39m\u001b[38;5;124mTarget is \u001b[39m\u001b[38;5;132;01m%s\u001b[39;00m\u001b[38;5;124m but average=\u001b[39m\u001b[38;5;124m'\u001b[39m\u001b[38;5;124mbinary\u001b[39m\u001b[38;5;124m'\u001b[39m\u001b[38;5;124m. Please \u001b[39m\u001b[38;5;124m\"\u001b[39m\n\u001b[1;32m   1383\u001b[0m             \u001b[38;5;124m\"\u001b[39m\u001b[38;5;124mchoose another average setting, one of \u001b[39m\u001b[38;5;132;01m%r\u001b[39;00m\u001b[38;5;124m.\u001b[39m\u001b[38;5;124m\"\u001b[39m \u001b[38;5;241m%\u001b[39m (y_type, average_options)\n\u001b[1;32m   1384\u001b[0m         )\n\u001b[1;32m   1385\u001b[0m \u001b[38;5;28;01melif\u001b[39;00m pos_label \u001b[38;5;129;01mnot\u001b[39;00m \u001b[38;5;129;01min\u001b[39;00m (\u001b[38;5;28;01mNone\u001b[39;00m, \u001b[38;5;241m1\u001b[39m):\n\u001b[1;32m   1386\u001b[0m     warnings\u001b[38;5;241m.\u001b[39mwarn(\n\u001b[1;32m   1387\u001b[0m         \u001b[38;5;124m\"\u001b[39m\u001b[38;5;124mNote that pos_label (set to \u001b[39m\u001b[38;5;132;01m%r\u001b[39;00m\u001b[38;5;124m) is ignored when \u001b[39m\u001b[38;5;124m\"\u001b[39m\n\u001b[1;32m   1388\u001b[0m         \u001b[38;5;124m\"\u001b[39m\u001b[38;5;124maverage != \u001b[39m\u001b[38;5;124m'\u001b[39m\u001b[38;5;124mbinary\u001b[39m\u001b[38;5;124m'\u001b[39m\u001b[38;5;124m (got \u001b[39m\u001b[38;5;132;01m%r\u001b[39;00m\u001b[38;5;124m). You may use \u001b[39m\u001b[38;5;124m\"\u001b[39m\n\u001b[0;32m   (...)\u001b[0m\n\u001b[1;32m   1391\u001b[0m         \u001b[38;5;167;01mUserWarning\u001b[39;00m,\n\u001b[1;32m   1392\u001b[0m     )\n",
      "\u001b[0;31mValueError\u001b[0m: Target is multiclass but average='binary'. Please choose another average setting, one of [None, 'micro', 'macro', 'weighted']."
     ]
    }
   ],
   "source": [
    "from sklearn.metrics import accuracy_score, f1_score, balanced_accuracy_score, precision_score, recall_score, roc_auc_score\n",
    "from sklearn.pipeline import make_pipeline\n",
    "from sklearn.preprocessing import StandardScaler\n",
    "from collections import Counter\n",
    "import matplotlib.pyplot as plt\n",
    "\n",
    "\n",
    "n_jobs = 10\n",
    "cv = 5\n",
    "verbose = False\n",
    "\n",
    "results = {}\n",
    "folder = './predictions'\n",
    "\n",
    "for dataset in datasets:\n",
    "    print(dataset)\n",
    "\n",
    "    graphs, labels = load_singleton_graphs_from_TUDataset(root=os.path.join('root', dataset),\n",
    "                                                          dataset=dataset,\n",
    "                                                          node_attr=NODE_ATTRIBUTE)\n",
    "#     graphs, labels = load_special_singleton(root=os.path.join('root', dataset),\n",
    "#                                                           dataset=dataset,\n",
    "#                                                           node_attr=NODE_ATTRIBUTE)\n",
    "    # print(f'Distinct graphs {len(distinct_graphs(graphs))}/{len(graphs)}')\n",
    "    \n",
    "    print(\"class proportions\", np.unique(labels, return_counts=True)[1] / len(labels))\n",
    "    # plt.hist(labels)\n",
    "    \n",
    "    for clf_name, clf in CLF_METHODS.items():\n",
    "        clf_method, param_grid = clf\n",
    "\n",
    "        f1_scores = []\n",
    "        accuracies = []\n",
    "        precisions, recalls = [], []\n",
    "        balanced_accuracies = []\n",
    "        aucrocs = []\n",
    "        \n",
    "\n",
    "        for c_seed in seeds:\n",
    "            \n",
    "            G_train, G_test, y_train, y_test = train_test_split(graphs,\n",
    "                                                                labels,\n",
    "                                                                test_size=0.2,\n",
    "                                                                random_state=c_seed,\n",
    "                                                                stratify=labels)\n",
    "            pipe_clf = make_pipeline(StandardScaler(),\n",
    "                                     clf_method())\n",
    "            clf = GridSearchCV(estimator=pipe_clf,\n",
    "                                param_grid=param_grid,\n",
    "                                n_jobs=n_jobs,\n",
    "                                cv=cv,\n",
    "                               scoring='f1_micro',\n",
    "                                verbose=int(verbose)*3)\n",
    "            \n",
    "            \n",
    "            clf.fit(G_train, y_train)\n",
    "            y_predictions = clf.predict(G_test)\n",
    "            \n",
    "            \n",
    "            \n",
    "            accuracies.append(accuracy_score(y_test, y_predictions))\n",
    "            balanced_accuracies.append(balanced_accuracy_score(y_test, y_predictions))\n",
    "            average = 'binary' if len(set(labels)) <= 2 else 'macro'\n",
    "            f1_scores.append(f1_score(y_test, y_predictions, average=average))\n",
    "            precisions.append(precision_score(y_test, y_predictions))\n",
    "            recalls.append(recall_score(y_test, y_predictions))\n",
    "            aucrocs.append(roc_auc_score(y_test, y_predictions, multi_class='ovr'))\n",
    "        \n",
    "        print(f'{dataset}, {clf_name} (acc): {np.mean(accuracies)*100:.2f} +- {np.std(accuracies)*100:.2f}')\n",
    "        print(f'{dataset}, {clf_name} (balanced acc): {np.mean(balanced_accuracies)*100:.2f} +- {np.std(balanced_accuracies)*100:.2f}')\n",
    "        print(f'{dataset}, {clf_name} (f1): {np.mean(f1_scores)*100:.2f} +- {np.std(f1_scores)*100:.2f}')\n",
    "        print(f'{dataset}, {clf_name} (precision): {np.mean(precisions)*100:.2f} +- {np.std(precisions)*100:.2f}')\n",
    "        print(f'{dataset}, {clf_name} (recall): {np.mean(recalls)*100:.2f} +- {np.std(recalls)*100:.2f}')\n",
    "        print(f'{dataset}, {clf_name} (AUCROC): {np.mean(aucrocs)*100:.2f} +- {np.std(aucrocs)*100:.2f}')\n",
    "        print('*' * 50)\n",
    "            \n",
    "    print('='*60)\n",
    "    \n",
    "  "
   ]
  },
  {
   "cell_type": "raw",
   "metadata": {},
   "source": [
    "ENZYMES\n",
    "Distinct graphs 385/600\n",
    "ENZYMES, knn: 37.75 +- 4.17\n",
    "ENZYMES, rbf: 40.08 +- 3.38\n",
    "============================================================\n",
    "DD\n",
    "Distinct graphs 1174/1178\n",
    "DD, knn: 77.63 +- 2.34\n",
    "DD, rbf: 78.60 +- 2.34\n",
    "============================================================\n",
    "MSRC_9\n",
    "Distinct graphs 219/221\n",
    "MSRC_9, knn: 89.11 +- 3.91\n",
    "MSRC_9, rbf: 90.22 +- 4.12\n",
    "============================================================\n",
    "MSRC_21\n",
    "Distinct graphs 563/563\n",
    "MSRC_21, knn: 87.79 +- 2.12\n",
    "MSRC_21, rbf: 91.15 +- 1.31\n",
    "============================================================\n",
    "Mutagenicity\n",
    "Distinct graphs 2819/4337\n",
    "Mutagenicity, knn: 71.07 +- 1.12\n",
    "Mutagenicity, rbf: 73.23 +- 2.38\n",
    "============================================================\n",
    "NCI1\n",
    "Distinct graphs 2889/4110\n",
    "NCI1, knn: 68.44 +- 1.07\n",
    "NCI1, rbf: 69.43 +- 1.17\n",
    "============================================================\n",
    "NCI109\n",
    "Distinct graphs 2929/4127\n",
    "NCI109, knn: 69.36 +- 1.17\n",
    "NCI109, rbf: 70.74 +- 0.88\n",
    "============================================================\n",
    "PROTEINS_full\n",
    "Distinct graphs 745/1113\n",
    "PROTEINS_full, knn: 73.45 +- 2.98\n",
    "PROTEINS_full, rbf: 74.75 +- 2.56\n",
    "============================================================\n",
    "COLLAB\n",
    "Distinct graphs 294/5000\n",
    "COLLAB, knn: 56.51 +- 1.33\n",
    "COLLAB, rbf: 58.14 +- 0.63\n",
    "============================================================\n",
    "REDDIT-BINARY\n",
    "Distinct graphs 781/2000\n",
    "REDDIT-BINARY, knn: 77.55 +- 1.66\n",
    "REDDIT-BINARY, rbf: 78.35 +- 1.83\n",
    "============================================================\n",
    "REDDIT-MULTI-5K\n",
    "Distinct graphs 1365/4999\n",
    "REDDIT-MULTI-5K, knn: 30.86 +- 1.33\n",
    "REDDIT-MULTI-5K, rbf: 35.72 +- 1.17\n",
    "============================================================\n",
    "REDDIT-MULTI-12K\n",
    "Distinct graphs 1599/11929\n",
    "REDDIT-MULTI-12K, knn: 20.09 +- 1.09\n",
    "REDDIT-MULTI-12K, rbf: 24.98 +- 0.76\n",
    "============================================================\n",
    "NCI-H23H\n",
    "Distinct graphs 26421/40353\n",
    "NCI-H23H, knn: 94.98 +- 0.11\n",
    "NCI-H23H, rbf: 95.18 +- 0.05\n",
    "============================================================\n"
   ]
  },
  {
   "cell_type": "raw",
   "metadata": {},
   "source": [
    "ENZYMES\n",
    "ENZYMES, knn: 0.37 +- 0.03\n",
    "ENZYMES, rbf: 0.40 +- 0.03\n",
    "============================================================\n",
    "DD\n",
    "DD, knn: 0.77 +- 0.02\n",
    "DD, rbf: 0.79 +- 0.02\n",
    "============================================================\n",
    "MSRC_9\n",
    "MSRC_9, knn: 0.88 +- 0.04\n",
    "MSRC_9, rbf: 0.88 +- 0.03\n",
    "============================================================\n",
    "MSRC_21\n",
    "MSRC_21, knn: 0.83 +- 0.03\n",
    "MSRC_21, rbf: 0.90 +- 0.02\n",
    "============================================================\n",
    "Mutagenicity\n",
    "Mutagenicity, knn: 0.72 +- 0.02\n",
    "Mutagenicity, rbf: 0.73 +- 0.01\n",
    "============================================================\n",
    "NCI1\n",
    "NCI1, knn: 0.67 +- 0.01\n",
    "NCI1, rbf: 0.69 +- 0.01\n",
    "============================================================\n",
    "NCI109\n",
    "NCI109, knn: 0.67 +- 0.02\n",
    "NCI109, rbf: 0.70 +- 0.01\n",
    "============================================================\n",
    "PROTEINS_full\n",
    "PROTEINS_full, knn: 0.73 +- 0.03\n",
    "PROTEINS_full, rbf: 0.75 +- 0.02\n",
    "============================================================\n",
    "COLLAB\n",
    "COLLAB, knn: 0.57 +- 0.01\n",
    "COLLAB, rbf: 0.58 +- 0.01\n",
    "============================================================\n",
    "NCI-H23H\n",
    "NCI-H23H, knn: 0.95 +- 0.00\n",
    "NCI-H23H, rbf: 0.95 +- 0.00\n",
    "============================================================\n",
    "REDDIT-BINARY\n",
    "REDDIT-BINARY, knn: 0.78 +- 0.02\n",
    "REDDIT-BINARY, rbf: 0.78 +- 0.02\n",
    "============================================================\n",
    "REDDIT-MULTI-5K\n",
    "REDDIT-MULTI-5K, knn: 0.31 +- 0.01\n",
    "REDDIT-MULTI-5K, rbf: 0.36 +- 0.01\n",
    "============================================================\n",
    "REDDIT-MULTI-12K\n",
    "REDDIT-MULTI-12K, knn: 0.20 +- 0.01\n",
    "REDDIT-MULTI-12K, rbf: 0.25 +- 0.01\n",
    "============================================================\n"
   ]
  },
  {
   "cell_type": "code",
   "execution_count": null,
   "metadata": {},
   "outputs": [],
   "source": []
  },
  {
   "cell_type": "code",
   "execution_count": null,
   "metadata": {},
   "outputs": [],
   "source": []
  }
 ],
 "metadata": {
  "colab": {
   "provenance": []
  },
  "kernelspec": {
   "display_name": "Python 3 (ipykernel)",
   "language": "python",
   "name": "python3"
  },
  "language_info": {
   "codemirror_mode": {
    "name": "ipython",
    "version": 3
   },
   "file_extension": ".py",
   "mimetype": "text/x-python",
   "name": "python",
   "nbconvert_exporter": "python",
   "pygments_lexer": "ipython3",
   "version": "3.9.16"
  }
 },
 "nbformat": 4,
 "nbformat_minor": 4
}
