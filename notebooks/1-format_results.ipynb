{
 "cells": [
  {
   "cell_type": "code",
   "execution_count": 1,
   "id": "e2d81309-488e-453d-9b2b-ee175904aa06",
   "metadata": {},
   "outputs": [
    {
     "name": "stderr",
     "output_type": "stream",
     "text": [
      "/home/anthonygillioz/Documents/graph_library/graph_reduction/filter_reduction/venv/lib64/python3.10/site-packages/tqdm/auto.py:22: TqdmWarning: IProgress not found. Please update jupyter and ipywidgets. See https://ipywidgets.readthedocs.io/en/stable/user_install.html\n",
      "  from .autonotebook import tqdm as notebook_tqdm\n"
     ]
    }
   ],
   "source": [
    "import numpy as np\n",
    "import json\n",
    "import sys\n",
    "import os\n",
    "\n",
    "sys.path.append(os.path.dirname(os.getcwd()))\n",
    "from utils import get_file_results\n",
    "from itertools import product\n",
    "from os.path import join\n",
    "import scipy.stats as stats"
   ]
  },
  {
   "cell_type": "code",
   "execution_count": 2,
   "id": "6c4a492f-c97e-4e5f-9e78-c16776dd2ce7",
   "metadata": {},
   "outputs": [],
   "source": [
    "DATASETS = [\n",
    "    'AIDS', 'BZR', 'BZR_MD', 'COX2', 'COX2_MD', 'DHFR', 'DHFR_MD', 'ER_MD', 'MUTAG',\n",
    "    'Mutagenicity', 'NCI1', 'NCI109', 'PTC_FM', 'PTC_FR', 'PTC_MM', 'PTC_MR',\n",
    "    'DD', 'ENZYMES', 'KKI', 'OHSU', 'Peking_1', 'PROTEINS_full', 'MSRC_9', 'MSRC_21',\n",
    "    'COLLAB', 'IMDB-BINARY', 'IMDB-MULTI', 'REDDIT-BINARY', 'REDDIT-MULTI-5K', 'REDDIT-MULTI-12K',\n",
    "    'FRANKENSTEIN', 'PROTEINS', 'COIL-DEL', 'COIL-RAG', 'Letter-high', 'Letter-low',\n",
    "    'Letter-med',\n",
    "]\n",
    "\n",
    "LABELED = [\n",
    "    'AIDS', 'BZR', 'BZR_MD', 'COX2', 'COX2_MD', 'DHFR', 'DHFR_MD', 'ER_MD', 'MUTAG',\n",
    "    'Mutagenicity', 'NCI1', 'NCI109', 'PTC_FM', 'PTC_FR', 'PTC_MM', 'PTC_MR',\n",
    "    'DD', 'ENZYMES', 'KKI', 'OHSU', 'Peking_1', 'PROTEINS_full', 'MSRC_9', 'MSRC_21',\n",
    "]\n",
    "\n",
    "UNLABELED = [dataset for dataset in DATASETS if dataset not in LABELED]\n",
    "\n",
    "use_degrees = [False]\n",
    "\n",
    "CLF_METHODS = ['KNN', 'GED', 'RBF', 'WL', 'NN', 'GNN']\n",
    "CLF_METHODS = ['knn', 'rbf', 'WL', 'nn']"
   ]
  },
  {
   "cell_type": "code",
   "execution_count": 3,
   "id": "6b117100-c9a3-4fba-93a1-fe5953aab27e",
   "metadata": {},
   "outputs": [],
   "source": [
    "from typing import Dict\n",
    "from collections import defaultdict\n",
    "\n",
    "def load_data(filename: str) -> Dict:\n",
    "    with open(os.path.join('..', filename), 'r') as file:\n",
    "        data = json.load(file)\n",
    "\n",
    "    return data\n",
    "\n",
    "use_degree = False\n",
    "remove_node_labels = False\n",
    "scoring = 'test_acc'\n",
    "FOLDER_RESULTS = './formated_results'\n",
    "\n",
    "for dataset in DATASETS:\n",
    "    \n",
    "    results_per_clf = dict()\n",
    "    raw_results_per_clf = dict()\n",
    "    \n",
    "    for clf in CLF_METHODS:\n",
    "        filename = get_file_results(None, dataset, clf, use_degree, remove_node_labels)\n",
    "        data = load_data(filename)\n",
    "        \n",
    "        mean_results = [np.mean(result[scoring]) for result in data]\n",
    "        raw_results_per_clf[clf] = mean_results\n",
    "        \n",
    "        results_per_clf[clf] = {'mean': np.mean(mean_results), 'std': np.std(mean_results)}\n",
    "        \n",
    "    filename = join(FOLDER_RESULTS,\n",
    "                    f'{dataset}.json')\n",
    "    filename_raw = join(FOLDER_RESULTS,\n",
    "                        f'{dataset}_raw.json')\n",
    "        \n",
    "    with open(filename, 'w') as f:\n",
    "        json.dump(results_per_clf, f, indent=4)\n",
    "    with open(filename_raw, 'w') as f:\n",
    "        json.dump(raw_results_per_clf, f, indent=4)\n",
    "    "
   ]
  },
  {
   "cell_type": "code",
   "execution_count": null,
   "id": "993c6ad4-4804-446d-bbe2-d8d1cd9344f7",
   "metadata": {},
   "outputs": [],
   "source": []
  },
  {
   "cell_type": "code",
   "execution_count": null,
   "id": "cd175b3c-d04d-4240-b0eb-d7736f91d861",
   "metadata": {},
   "outputs": [],
   "source": []
  }
 ],
 "metadata": {
  "kernelspec": {
   "display_name": "Python 3 (ipykernel)",
   "language": "python",
   "name": "python3"
  },
  "language_info": {
   "codemirror_mode": {
    "name": "ipython",
    "version": 3
   },
   "file_extension": ".py",
   "mimetype": "text/x-python",
   "name": "python",
   "nbconvert_exporter": "python",
   "pygments_lexer": "ipython3",
   "version": "3.10.9"
  }
 },
 "nbformat": 4,
 "nbformat_minor": 5
}
